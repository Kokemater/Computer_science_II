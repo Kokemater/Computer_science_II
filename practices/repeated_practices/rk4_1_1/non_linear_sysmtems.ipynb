{
 "cells": [
  {
   "cell_type": "code",
   "execution_count": 4,
   "metadata": {},
   "outputs": [
    {
     "name": "stdout",
     "output_type": "stream",
     "text": [
      "Soluciones encontradas:\n",
      "Solución 1: x = 0.000000, y = 0.000000\n",
      "Solución 2: x = -1.000000, y = 0.000000\n"
     ]
    },
    {
     "name": "stderr",
     "output_type": "stream",
     "text": [
      "/tmp/ipykernel_68150/2265809538.py:35: RuntimeWarning: xtol=0.000000 is too small, no further improvement in the approximate\n",
      "  solution is possible.\n",
      "  sol = fsolve(f, [x0, y0])\n"
     ]
    }
   ],
   "source": [
    "import numpy as np\n",
    "from scipy.optimize import fsolve\n",
    "\n",
    "def sistema(variables):\n",
    "    \"\"\"\n",
    "    Define el sistema de ecuaciones no lineales.\n",
    "\n",
    "    Args:\n",
    "        variables (list): Lista de variables [x, y].\n",
    "\n",
    "    Returns:\n",
    "        list: Evaluación de las ecuaciones.\n",
    "    \"\"\"\n",
    "    x, y = variables\n",
    "    eq1 = x + x**2 + y**2  # Primera ecuación\n",
    "    eq2 = y - x * y        # Segunda ecuación\n",
    "    return [eq1, eq2]\n",
    "\n",
    "def encontrar_todas_las_soluciones(f, grid_x, grid_y, tol=1e-6):\n",
    "    \"\"\"\n",
    "    Encuentra todas las soluciones del sistema en una grilla de condiciones iniciales.\n",
    "\n",
    "    Args:\n",
    "        f (function): Sistema de ecuaciones.\n",
    "        grid_x (array): Valores iniciales para x.\n",
    "        grid_y (array): Valores iniciales para y.\n",
    "        tol (float): Tolerancia para distinguir soluciones únicas.\n",
    "\n",
    "    Returns:\n",
    "        list: Lista de soluciones únicas.\n",
    "    \"\"\"\n",
    "    soluciones = []\n",
    "    for x0 in grid_x:\n",
    "        for y0 in grid_y:\n",
    "            sol = fsolve(f, [x0, y0])\n",
    "            # Redondear la solución para evitar duplicados numéricos\n",
    "            sol_redondeada = np.round(sol, int(-np.log10(tol)))\n",
    "            if not any(np.allclose(sol_redondeada, s, atol=tol) for s in soluciones):\n",
    "                soluciones.append(sol_redondeada)\n",
    "    return soluciones\n",
    "\n",
    "# Crear una grilla de condiciones iniciales\n",
    "x_vals = np.linspace(-2, 2, 20)  # Exploramos en el rango [-2, 2] para x\n",
    "y_vals = np.linspace(-2, 2, 20)  # Exploramos en el rango [-2, 2] para y\n",
    "\n",
    "# Encontrar todas las soluciones\n",
    "todas_las_soluciones = encontrar_todas_las_soluciones(sistema, x_vals, y_vals)\n",
    "\n",
    "# Mostrar resultados\n",
    "print(\"Soluciones encontradas:\")\n",
    "for idx, sol in enumerate(todas_las_soluciones, 1):\n",
    "    print(f\"Solución {idx}: x = {sol[0]:.6f}, y = {sol[1]:.6f}\")\n"
   ]
  }
 ],
 "metadata": {
  "kernelspec": {
   "display_name": "Python 3",
   "language": "python",
   "name": "python3"
  },
  "language_info": {
   "codemirror_mode": {
    "name": "ipython",
    "version": 3
   },
   "file_extension": ".py",
   "mimetype": "text/x-python",
   "name": "python",
   "nbconvert_exporter": "python",
   "pygments_lexer": "ipython3",
   "version": "3.10.12"
  }
 },
 "nbformat": 4,
 "nbformat_minor": 2
}
